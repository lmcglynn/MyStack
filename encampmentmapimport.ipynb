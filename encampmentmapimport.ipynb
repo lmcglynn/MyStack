{
 "cells": [
  {
   "cell_type": "code",
   "execution_count": null,
   "metadata": {},
   "outputs": [],
   "source": [
    "import numpy\n",
    "import pandas\n",
    "df = pandas.read_excel('import.xlsx')\n",
    "#print(df)\n",
    "outputList = []\n",
    "for row in range(len(df['Name'])):\n",
    "    tempObject = {}\n",
    "    objectToAdd = {}\n",
    "    for col in df.columns:\n",
    "        tempObject[col] = df[col][row]\n",
    "    outputList.append(tempObject)\n",
    "print(outputList)"
   ]
  }
 ],
 "metadata": {
  "kernelspec": {
   "display_name": ".venv",
   "language": "python",
   "name": "python3"
  },
  "language_info": {
   "name": "python",
   "version": "3.9.-1"
  }
 },
 "nbformat": 4,
 "nbformat_minor": 2
}
