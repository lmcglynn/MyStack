{
 "cells": [
  {
   "cell_type": "code",
   "execution_count": 1,
   "id": "1c1a207e",
   "metadata": {},
   "outputs": [],
   "source": [
    "import pandas as pd\n",
    "import numpy as np\n",
    "\n",
    "FAdata = pd.read_csv(\"FALocData2.csv\")"
   ]
  },
  {
   "cell_type": "code",
   "execution_count": 2,
   "id": "d7dfd901",
   "metadata": {},
   "outputs": [
    {
     "data": {
      "text/plain": [
       "LOCATION\n",
       "RONALD REAGAN UCLA MEDICAL CENTER          27\n",
       "HEDRICK HALL                               20\n",
       "YOUNG HALL                                 13\n",
       "BOELTER HALL                               13\n",
       "MEDICAL PLAZA 200 PETER MORTON BUILDING    11\n",
       "CENTER FOR HEALTH SCIENCES                 10\n",
       "TERASAKI LIFE SCIENCES BUILDING            10\n",
       "MATHEMATICAL SCIENCES BUILDING             10\n",
       "BROAD ART CENTER                            7\n",
       "FRANZ HALL                                  7\n",
       "dtype: int64"
      ]
     },
     "execution_count": 2,
     "metadata": {},
     "output_type": "execute_result"
    }
   ],
   "source": [
    "locs = FAdata.groupby(['LOCATION']).size().sort_values(ascending=False)\n",
    "locs.head(10)"
   ]
  },
  {
   "cell_type": "code",
   "execution_count": null,
   "id": "490e4bc4",
   "metadata": {},
   "outputs": [],
   "source": []
  }
 ],
 "metadata": {
  "kernelspec": {
   "display_name": "Python 3 (ipykernel)",
   "language": "python",
   "name": "python3"
  },
  "language_info": {
   "codemirror_mode": {
    "name": "ipython",
    "version": 3
   },
   "file_extension": ".py",
   "mimetype": "text/x-python",
   "name": "python",
   "nbconvert_exporter": "python",
   "pygments_lexer": "ipython3",
   "version": "3.9.12"
  }
 },
 "nbformat": 4,
 "nbformat_minor": 5
}
