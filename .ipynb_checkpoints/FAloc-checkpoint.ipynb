{
 "cells": [
  {
   "cell_type": "code",
   "execution_count": 2,
   "id": "1c1a207e",
   "metadata": {},
   "outputs": [],
   "source": [
    "import pandas as pd\n",
    "import numpy as np\n",
    "\n",
    "FAdata = pd.read_csv(\"FALocData1.csv\")"
   ]
  },
  {
   "cell_type": "code",
   "execution_count": 3,
   "id": "d7dfd901",
   "metadata": {},
   "outputs": [
    {
     "data": {
      "text/plain": [
       "LOCATION\n",
       "RONALD REAGAN UCLA MEDICAL CENTER          18\n",
       "HEDRICK HALL                               15\n",
       "BOELTER HALL                               12\n",
       "YOUNG HALL                                 10\n",
       "MATHEMATICAL SCIENCES BUILDING             10\n",
       "TERASAKI LIFE SCIENCES BUILDING             9\n",
       "FRANZ HALL                                  7\n",
       "RIEBER VISTA                                6\n",
       "MEDICAL PLAZA 200 PETER MORTON BUILDING     6\n",
       "BROAD ART CENTER                            6\n",
       "dtype: int64"
      ]
     },
     "execution_count": 3,
     "metadata": {},
     "output_type": "execute_result"
    }
   ],
   "source": [
    "locs = FAdata.groupby(['LOCATION']).size().sort_values(ascending=False)\n",
    "locs.head(10)"
   ]
  },
  {
   "cell_type": "code",
   "execution_count": null,
   "id": "490e4bc4",
   "metadata": {},
   "outputs": [],
   "source": []
  }
 ],
 "metadata": {
  "kernelspec": {
   "display_name": "Python 3 (ipykernel)",
   "language": "python",
   "name": "python3"
  },
  "language_info": {
   "codemirror_mode": {
    "name": "ipython",
    "version": 3
   },
   "file_extension": ".py",
   "mimetype": "text/x-python",
   "name": "python",
   "nbconvert_exporter": "python",
   "pygments_lexer": "ipython3",
   "version": "3.9.12"
  }
 },
 "nbformat": 4,
 "nbformat_minor": 5
}
